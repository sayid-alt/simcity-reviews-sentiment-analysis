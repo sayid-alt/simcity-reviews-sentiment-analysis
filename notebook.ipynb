{
 "cells": [
  {
   "cell_type": "markdown",
   "id": "164bba39",
   "metadata": {
    "papermill": {
     "duration": 0.004128,
     "end_time": "2024-11-13T02:15:27.650892",
     "exception": false,
     "start_time": "2024-11-13T02:15:27.646764",
     "status": "completed"
    },
    "tags": []
   },
   "source": [
    "# **PROJECT DESCRIPTION**\n",
    "**Project Title**: Sentiment Analysis of Simcity BuiltId App Reviews\n",
    "\n",
    "**Project Description**:<br>\n",
    "This project aims to analyze the sentiment of user reviews for the Simcity BuiltId app on the Google Play Store, providing insights into users’ experiences and overall satisfaction with the app. The sentiment analysis will categorize reviews as either positive or negative, allowing us to identify prevalent themes and common user concerns.\n",
    "\n",
    "**Data Collection**:<br>\n",
    "The data will be collected by scraping reviews from the Google Play Store using the google-play-scraper Python library. This ensures real-time data acquisition directly from users, reflecting the most current feedback.\n",
    "\n",
    "**Methodology**:<br>\n",
    "The project will involve the following components and methodologies:\n",
    "1. **Sentiment Classification Models**:<br>\n",
    "Three machine learning and deep learning models will be utilized for sentiment classification:\n",
    "    * Naive Bayes\n",
    "    * Decision Tree\n",
    "    * LSTM (Long Short-Term Memory Neural Network)\n",
    "2. **Feature Extraction Techniques**: <br>\n",
    "    * TF-IDF (Term Frequency-Inverse Document Frequency) for transforming text data into numerical features.\n",
    "    * Word2Vec Word Embeddings for capturing semantic relationships between words.\n",
    "3. **Data Splitting Strategy**: <br>\n",
    "To evaluate model performance, the data will be split into training and testing sets using two different ratios:\n",
    "    * 80/20 split (80% training, 20% testing)\n",
    "    * 70/30 split (70% training, 30% testing)\n",
    "4. **Model Training Configurations**: <br>\n",
    "The following combinations of models, feature extraction, and data splits will be tested:\n",
    "    * `Naive Bayes` with `TF-IDF` and `80/20` split\n",
    "    * `Decision Tree` with `TF-IDF` and `70/30` split\n",
    "    * `LSTM` with `Word2Vec` and `80/20` split\n",
    "\n",
    "**Project Objective:** <br>\n",
    "This analysis aims to uncover the user experience with the Simcity BuiltId app by analyzing sentiment patterns in reviews. Insights gained from the sentiment analysis will highlight common positive aspects as well as frequent areas of user dissatisfaction, which can inform app development, customer support strategies, and user engagement."
   ]
  },
  {
   "cell_type": "markdown",
   "id": "7a51a056",
   "metadata": {
    "papermill": {
     "duration": 0.00329,
     "end_time": "2024-11-13T02:15:27.658049",
     "exception": false,
     "start_time": "2024-11-13T02:15:27.654759",
     "status": "completed"
    },
    "tags": []
   },
   "source": [
    "# **1. Import Library**"
   ]
  },
  {
   "cell_type": "code",
   "execution_count": 1,
   "id": "b9756d29",
   "metadata": {
    "execution": {
     "iopub.execute_input": "2024-11-13T02:15:27.668119Z",
     "iopub.status.busy": "2024-11-13T02:15:27.667716Z",
     "iopub.status.idle": "2024-11-13T02:15:41.470179Z",
     "shell.execute_reply": "2024-11-13T02:15:41.468949Z"
    },
    "papermill": {
     "duration": 13.810809,
     "end_time": "2024-11-13T02:15:41.472876",
     "exception": false,
     "start_time": "2024-11-13T02:15:27.662067",
     "status": "completed"
    },
    "tags": []
   },
   "outputs": [
    {
     "name": "stdout",
     "output_type": "stream",
     "text": [
      "Collecting google-play-scraper\r\n",
      "  Downloading google_play_scraper-1.2.7-py3-none-any.whl.metadata (50 kB)\r\n",
      "\u001b[2K     \u001b[90m━━━━━━━━━━━━━━━━━━━━━━━━━━━━━━━━━━━━━━━━\u001b[0m \u001b[32m50.2/50.2 kB\u001b[0m \u001b[31m2.6 MB/s\u001b[0m eta \u001b[36m0:00:00\u001b[0m\r\n",
      "\u001b[?25hDownloading google_play_scraper-1.2.7-py3-none-any.whl (28 kB)\r\n",
      "Installing collected packages: google-play-scraper\r\n",
      "Successfully installed google-play-scraper-1.2.7\r\n"
     ]
    }
   ],
   "source": [
    "!pip install google-play-scraper"
   ]
  },
  {
   "cell_type": "code",
   "execution_count": 2,
   "id": "c44630c2",
   "metadata": {
    "_cell_guid": "b1076dfc-b9ad-4769-8c92-a6c4dae69d19",
    "_uuid": "8f2839f25d086af736a60e9eeb907d3b93b6e0e5",
    "execution": {
     "iopub.execute_input": "2024-11-13T02:15:41.483433Z",
     "iopub.status.busy": "2024-11-13T02:15:41.482362Z",
     "iopub.status.idle": "2024-11-13T02:15:42.358050Z",
     "shell.execute_reply": "2024-11-13T02:15:42.356718Z"
    },
    "papermill": {
     "duration": 0.883816,
     "end_time": "2024-11-13T02:15:42.360784",
     "exception": false,
     "start_time": "2024-11-13T02:15:41.476968",
     "status": "completed"
    },
    "tags": []
   },
   "outputs": [],
   "source": [
    "# This Python 3 environment comes with many helpful analytics libraries installed\n",
    "# It is defined by the kaggle/python Docker image: https://github.com/kaggle/docker-python\n",
    "# For example, here's several helpful packages to load\n",
    "\n",
    "import numpy as np # linear algebra\n",
    "import pandas as pd # data processing, CSV file I/O (e.g. pd.read_csv)\n",
    "import json\n",
    "\n",
    "from google_play_scraper import reviews_all, Sort, app\n",
    "\n",
    "# Input data files are available in the read-only \"../input/\" directory\n",
    "# For example, running this (by clicking run or pressing Shift+Enter) will list all files under the input directory\n",
    "\n",
    "import os\n",
    "for dirname, _, filenames in os.walk('/kaggle/input'):\n",
    "    for filename in filenames:\n",
    "        print(os.path.join(dirname, filename))\n",
    "\n",
    "# You can write up to 20GB to the current directory (/kaggle/working/) that gets preserved as output when you create a version using \"Save & Run All\" \n",
    "# You can also write temporary files to /kaggle/temp/, but they won't be saved outside of the current session"
   ]
  },
  {
   "cell_type": "markdown",
   "id": "f86d2622",
   "metadata": {
    "papermill": {
     "duration": 0.003703,
     "end_time": "2024-11-13T02:15:42.368788",
     "exception": false,
     "start_time": "2024-11-13T02:15:42.365085",
     "status": "completed"
    },
    "tags": []
   },
   "source": [
    "# **2. Scraping Dataset**"
   ]
  },
  {
   "cell_type": "markdown",
   "id": "38d4be71",
   "metadata": {
    "papermill": {
     "duration": 0.003553,
     "end_time": "2024-11-13T02:15:42.376274",
     "exception": false,
     "start_time": "2024-11-13T02:15:42.372721",
     "status": "completed"
    },
    "tags": []
   },
   "source": [
    "We scrap review dataset from google-play-scraper library. Thus, we should install it first"
   ]
  },
  {
   "cell_type": "markdown",
   "id": "3d6ff2c8",
   "metadata": {
    "papermill": {
     "duration": 0.003507,
     "end_time": "2024-11-13T02:15:42.383553",
     "exception": false,
     "start_time": "2024-11-13T02:15:42.380046",
     "status": "completed"
    },
    "tags": []
   },
   "source": [
    "Below code for printing the description of the hbo application."
   ]
  },
  {
   "cell_type": "code",
   "execution_count": 3,
   "id": "5e9a5659",
   "metadata": {
    "execution": {
     "iopub.execute_input": "2024-11-13T02:15:42.393488Z",
     "iopub.status.busy": "2024-11-13T02:15:42.392535Z",
     "iopub.status.idle": "2024-11-13T02:15:42.590701Z",
     "shell.execute_reply": "2024-11-13T02:15:42.589398Z"
    },
    "papermill": {
     "duration": 0.205952,
     "end_time": "2024-11-13T02:15:42.593199",
     "exception": false,
     "start_time": "2024-11-13T02:15:42.387247",
     "status": "completed"
    },
    "tags": []
   },
   "outputs": [
    {
     "data": {
      "text/plain": [
       "{'title': 'SimCity BuildIt',\n",
       " 'description': 'Selamat datang, Wali Kota! Jadilah pahlawan kotamu sendiri sambil merancang dan menciptakan metropolis ramai yang indah. Setiap keputusan ada di tanganmu untuk membuat kotamu semakin besar dan lengkap. Buat pilihan cerdas agar wargamu tetap bahagia dan kaki langitmu meninggi. Setelah itu berdagang, mengobrol, bersaing, dan bergabung dengan klub dengan sesama wali kota. Bangun jalan menuju kejayaan!\\r\\n\\r\\nHIDUPKAN KOTAMU\\r\\nBangun gedung pencakar langit, taman, jembatan, dan banyak lagi! Tempatkan bangunan secara strategis agar pajak tetap mengalir dan kotamu berkembang. Tuntaskan tantangan kehidupan nyata, seperti lalu lintas dan polusi. Sediakan berbagai layanan, seperti pembangkit listrik dan kantor polisi. Jagalah agar lalu lintas lancar dengan jalanan lebar dan trem.\\r\\n\\r\\nTUMPAHKAN IMAJINASIMU DI PETA\\r\\nBangun lingkungan bergaya Tokyo, London, Paris, dan buka bangunan penting eksklusif, seperti Menara Eiffel dan Patung Liberty. Ungkap teknologi inovatif dengan Kota Masa Depan dan miliki tubuh bugar dengan stadion olahraga. Hias kotamu dengan sungai, danau, dan hutan, dan kembangkan area pantai dan pegunungan. Buka region geografis baru, seperti Kepulauan Cerah atau Fyord Beku, masing-masing dengan gaya arsitekturnya yang unik. Selalu ada sesuatu yang baru dan berbeda untuk menjadikan kotamu unik.\\r\\n\\r\\nBERJUANG MENUJU KEMENANGAN\\r\\nPertahankan kotamu melawan monster atau bersainglah menghadapi wali kota lain dalam Perang Klub. Susun strategi kemenangan bersama anggota Klubmu dan deklarasikan peperangan dengan kota lain. Setelah perang dimulai, keluarkan bencana gila, seperti Tornado Disko dan Monster Tanaman, ke lawanmu. Dapatkan hadiah berharga untuk digunakan dalam peperangan atau untuk meningkatkan kotamu. Selain itu, hadapi pemain lain dalam Lomba Para Wali Kota, di mana kamu bisa menyelesaikan tantangan mingguan dan mendaki papan peringkat Liga menuju posisi puncak. Setiap Musim kontes baru mendatangkan hadiah unit baru untuk mempercantik kotamu!\\r\\n\\r\\nBERINTERAKSI DAN BEKERJA SAMA\\r\\nBergabunglah dengan Klub Wali Kota untuk berjual beli suplai dengan anggota lain dan mengobrol tentang strategi dan sumber daya yang tersedia. Bekerjasamalah untuk membantu seseorang menyelesaikan visi pribadinya dan mendapatkan dukungan untuk menyelesaikan visimu. Bangun besar-besaran, bekerja bersama, bimbing Wali Kota lain, dan lihat kotamu menjadi hidup!\\r\\n\\r\\n-------\\r\\nInformasi Penting untuk Pelanggan. Aplikasi ini:\\r\\nMemerlukan koneksi Internet yang stabil (dapat dikenakan biaya jaringan). Memerlukan penerimaan terhadap Kebijakan Privasi dan Kuki serta Persetujuan Pengguna EA. Mencantumkan iklan dalam permainan. Berisi tautan langsung ke Internet dan situs jejaring sosial untuk pengguna berusia lebih dari 13 tahun. Aplikasi ini menggunakan Google Play Game Services. Keluar dari Google Play Game Services sebelum penginstalan jika Anda tidak ingin bermain dengan teman.\\r\\n\\r\\nPersetujuan Pengguna: https://terms.ea.com/id\\r\\nKebijakan Privasi dan Kuki: https://privacy.ea.com/id\\r\\nKunjungi https://help.ea.com untuk bantuan atau pertanyaan.\\r\\n\\r\\nEA dapat menghentikan fitur online setelah pemberitahuan 30 hari di-posting di www.ea.com/service-updates.',\n",
       " 'descriptionHTML': 'Selamat datang, Wali Kota! Jadilah pahlawan kotamu sendiri sambil merancang dan menciptakan metropolis ramai yang indah. Setiap keputusan ada di tanganmu untuk membuat kotamu semakin besar dan lengkap. Buat pilihan cerdas agar wargamu tetap bahagia dan kaki langitmu meninggi. Setelah itu berdagang, mengobrol, bersaing, dan bergabung dengan klub dengan sesama wali kota. Bangun jalan menuju kejayaan!<br><br>HIDUPKAN KOTAMU<br>Bangun gedung pencakar langit, taman, jembatan, dan banyak lagi! Tempatkan bangunan secara strategis agar pajak tetap mengalir dan kotamu berkembang. Tuntaskan tantangan kehidupan nyata, seperti lalu lintas dan polusi. Sediakan berbagai layanan, seperti pembangkit listrik dan kantor polisi. Jagalah agar lalu lintas lancar dengan jalanan lebar dan trem.<br><br>TUMPAHKAN IMAJINASIMU DI PETA<br>Bangun lingkungan bergaya Tokyo, London, Paris, dan buka bangunan penting eksklusif, seperti Menara Eiffel dan Patung Liberty. Ungkap teknologi inovatif dengan Kota Masa Depan dan miliki tubuh bugar dengan stadion olahraga. Hias kotamu dengan sungai, danau, dan hutan, dan kembangkan area pantai dan pegunungan. Buka region geografis baru, seperti Kepulauan Cerah atau Fyord Beku, masing-masing dengan gaya arsitekturnya yang unik. Selalu ada sesuatu yang baru dan berbeda untuk menjadikan kotamu unik.<br><br>BERJUANG MENUJU KEMENANGAN<br>Pertahankan kotamu melawan monster atau bersainglah menghadapi wali kota lain dalam Perang Klub. Susun strategi kemenangan bersama anggota Klubmu dan deklarasikan peperangan dengan kota lain. Setelah perang dimulai, keluarkan bencana gila, seperti Tornado Disko dan Monster Tanaman, ke lawanmu. Dapatkan hadiah berharga untuk digunakan dalam peperangan atau untuk meningkatkan kotamu. Selain itu, hadapi pemain lain dalam Lomba Para Wali Kota, di mana kamu bisa menyelesaikan tantangan mingguan dan mendaki papan peringkat Liga menuju posisi puncak. Setiap Musim kontes baru mendatangkan hadiah unit baru untuk mempercantik kotamu!<br><br>BERINTERAKSI DAN BEKERJA SAMA<br>Bergabunglah dengan Klub Wali Kota untuk berjual beli suplai dengan anggota lain dan mengobrol tentang strategi dan sumber daya yang tersedia. Bekerjasamalah untuk membantu seseorang menyelesaikan visi pribadinya dan mendapatkan dukungan untuk menyelesaikan visimu. Bangun besar-besaran, bekerja bersama, bimbing Wali Kota lain, dan lihat kotamu menjadi hidup!<br><br>-------<br>Informasi Penting untuk Pelanggan. Aplikasi ini:<br>Memerlukan koneksi Internet yang stabil (dapat dikenakan biaya jaringan). Memerlukan penerimaan terhadap Kebijakan Privasi dan Kuki serta Persetujuan Pengguna EA. Mencantumkan iklan dalam permainan. Berisi tautan langsung ke Internet dan situs jejaring sosial untuk pengguna berusia lebih dari 13 tahun. Aplikasi ini menggunakan Google Play Game Services. Keluar dari Google Play Game Services sebelum penginstalan jika Anda tidak ingin bermain dengan teman.<br><br>Persetujuan Pengguna: https://terms.ea.com/id<br>Kebijakan Privasi dan Kuki: https://privacy.ea.com/id<br>Kunjungi https://help.ea.com untuk bantuan atau pertanyaan.<br><br>EA dapat menghentikan fitur online setelah pemberitahuan 30 hari di-posting di www.ea.com/service-updates.',\n",
       " 'summary': 'Bangun dan kelola kotamu sendiri.',\n",
       " 'installs': '100.000.000+',\n",
       " 'minInstalls': 100000000,\n",
       " 'realInstalls': 131441712,\n",
       " 'score': 4.3463783,\n",
       " 'ratings': 5516713,\n",
       " 'reviews': 174979,\n",
       " 'histogram': [441935, 159845, 320544, 717443, 3876915],\n",
       " 'price': 0,\n",
       " 'free': True,\n",
       " 'currency': 'IDR',\n",
       " 'sale': False,\n",
       " 'saleTime': None,\n",
       " 'originalPrice': None,\n",
       " 'saleText': None,\n",
       " 'offersIAP': True,\n",
       " 'inAppProductPrice': 'Rp\\xa08.000,00 - Rp\\xa0790.000,00 per item',\n",
       " 'developer': 'ELECTRONIC ARTS',\n",
       " 'developerId': '6605125519975771237',\n",
       " 'developerEmail': 'help@eamobile.com',\n",
       " 'developerWebsite': 'http://help.ea.com/en/simcity/simcity-buildit/',\n",
       " 'developerAddress': 'Geneva, Switzerland',\n",
       " 'privacyPolicy': 'http://privacy.ea.com/en',\n",
       " 'genre': 'Simulasi',\n",
       " 'genreId': 'GAME_SIMULATION',\n",
       " 'categories': [{'name': 'Simulasi', 'id': 'GAME_SIMULATION'},\n",
       "  {'name': 'Manajemen', 'id': None},\n",
       "  {'name': 'Membangun kota', 'id': None},\n",
       "  {'name': 'Kasual', 'id': 'GAME_CASUAL'},\n",
       "  {'name': 'Single player', 'id': None},\n",
       "  {'name': 'Bergaya unik', 'id': None},\n",
       "  {'name': 'Bisnis & profesi', 'id': None},\n",
       "  {'name': 'Kerajaan bisnis', 'id': None},\n",
       "  {'name': 'Peradaban', 'id': None},\n",
       "  {'name': 'Evolusi', 'id': None},\n",
       "  {'name': 'Offline', 'id': None}],\n",
       " 'icon': 'https://play-lh.googleusercontent.com/5_jM3O_pLscMlexb8luGd3uImn9ExGf9G_9Iovy48VB5k5AWpFUzFNFmMpq4OyRY5Qo',\n",
       " 'headerImage': 'https://play-lh.googleusercontent.com/ry_YfYVSYkF6-ab9jxY5vbE8EYrZhwU1AYkUc1KIAE10CaKkQ2_C1F22nUhcBVsjQ3I3',\n",
       " 'screenshots': ['https://play-lh.googleusercontent.com/6s1mcQ0rq3osphitS20Hz8wH0lOSKuSJcKOT70GWUW8PB0ydOaSF3PF1YxAlh_63SYEw',\n",
       "  'https://play-lh.googleusercontent.com/-VpPuK59xnGEaZ04VA4WbEDQ8aaniOHcn_KsaBwPNA9nMPjKFLUzNwEMq-owfHtS1nqr',\n",
       "  'https://play-lh.googleusercontent.com/Qrca_F8EpfLTXUa8JZ4xPGpI_Dg3XjM0ZaFd8KtB257RPizUKwwWheyhsOcT3UdIWrj3',\n",
       "  'https://play-lh.googleusercontent.com/3Zj_5gjCwEJDi_vdPGzXgEo_aju4ypx13JG-WR_HaKg69cwKRwQ5k3ZJUgkOYGuSHdj5',\n",
       "  'https://play-lh.googleusercontent.com/SqmIKtZGWq9oR3gy0MR94NHWcXQSibuGxCTiQ_ACJV9D6fYjTrQXk840fxhMTccLxbf_',\n",
       "  'https://play-lh.googleusercontent.com/GzqxvtgUxruoWHMwUXf3WVWkggUGJIMdrMJLSV-hLV4WEY3L8gVmlY7FR-h_GDMLoWOX',\n",
       "  'https://play-lh.googleusercontent.com/ZFHhi-uMhld58GIPPP_-QJJ9q7n4fPBewja8uQ1QV5dV-e2vsMpqFLjG_GJTfOYblCU',\n",
       "  'https://play-lh.googleusercontent.com/repNPBH-lVpVelvOJC7ZqszLK5mzR-PMOK-__wz8sBtwAbbAMiW-oeQPCcKEbvbIcA',\n",
       "  'https://play-lh.googleusercontent.com/NJO06DVmITLtYrSrdCXtsDMVY_qMNpBb2hKgn36aPx_7qcbh_uiHpMUpNhl0kydKhbk',\n",
       "  'https://play-lh.googleusercontent.com/3zu-LL7mrcdH4bKTWk_OW_3gpx7udqTcM9bpDLyw79i67DHv9-5TBNY32SNS-2FykS86',\n",
       "  'https://play-lh.googleusercontent.com/48eY0LZvq49-RMrSSIONTDCYECSZ4L7JUbhy-3-Edlug5T9YuXqp9-UDeDu4fQ8L9yQ9',\n",
       "  'https://play-lh.googleusercontent.com/kf4HV2uPD60koawd1Vkx2vQFLDRJZIoMaza3UFVZoi3Tu9UHNdfO9ItsM3g4JZ-ehgw',\n",
       "  'https://play-lh.googleusercontent.com/RqpCIKKA5K2JZNyLRCvkxWkJPnfHkKaEcb3QItN1SV5gPaFnZcJEzIYbfBjQOQ13qQ',\n",
       "  'https://play-lh.googleusercontent.com/BP0hR_o1B9MQK0hdz1S1KimQYul0Q3KlgngIRfKHLklULTp2cFHi7A_d3qZmqCzto_Yu',\n",
       "  'https://play-lh.googleusercontent.com/BTq6gJWoc5zeck5gpl5Bb1xauwf66ZQCBFe0374JJ8LUgz-eZD3Aq-FNhrMIHwJaM18',\n",
       "  'https://play-lh.googleusercontent.com/PPLNI618lH2pZjHPcCCzca1N9ytLXWrZS9YzRD2vtpqX0D1FoLkl1lpFunXJXjc5LNc',\n",
       "  'https://play-lh.googleusercontent.com/_2Q-keMKj3C2vPF_PSvZ90FbrfTpiEKQ8vG5v9xk4WyTeMNer8DRc6wDxK2BNyt3VTY',\n",
       "  'https://play-lh.googleusercontent.com/qoY_RZ8N6k6witv6S30O2VmHZXEvRc0yL1oUlgRv13-8YcJeOWbV98fnTzLYdbTV3XC8'],\n",
       " 'video': 'https://www.youtube.com/embed/enMMAL6sMMw?ps=play&vq=large&rel=0&autohide=1&showinfo=0',\n",
       " 'videoImage': 'https://play-lh.googleusercontent.com/ry_YfYVSYkF6-ab9jxY5vbE8EYrZhwU1AYkUc1KIAE10CaKkQ2_C1F22nUhcBVsjQ3I3',\n",
       " 'contentRating': 'Rating 7+',\n",
       " 'contentRatingDescription': 'Kekerasan Tersirat, Kekerasan Ringan',\n",
       " 'adSupported': True,\n",
       " 'containsAds': True,\n",
       " 'released': '15 Des 2014',\n",
       " 'lastUpdatedOn': '7 Nov 2024',\n",
       " 'updated': 1730983215,\n",
       " 'version': '1.58.1.131512',\n",
       " 'comments': [],\n",
       " 'appId': 'com.ea.game.simcitymobile_row',\n",
       " 'url': 'https://play.google.com/store/apps/details?id=com.ea.game.simcitymobile_row&hl=id&gl=id'}"
      ]
     },
     "execution_count": 3,
     "metadata": {},
     "output_type": "execute_result"
    }
   ],
   "source": [
    "app_id = 'com.ea.game.simcitymobile_row'\n",
    "appdesc = app(\n",
    "    app_id,\n",
    "    lang='id', country='id'\n",
    ")\n",
    "\n",
    "appdesc"
   ]
  },
  {
   "cell_type": "markdown",
   "id": "e259ba73",
   "metadata": {
    "papermill": {
     "duration": 0.003978,
     "end_time": "2024-11-13T02:15:42.601711",
     "exception": false,
     "start_time": "2024-11-13T02:15:42.597733",
     "status": "completed"
    },
    "tags": []
   },
   "source": [
    "Let's start **scraping**!"
   ]
  },
  {
   "cell_type": "code",
   "execution_count": 4,
   "id": "f640fd21",
   "metadata": {
    "execution": {
     "iopub.execute_input": "2024-11-13T02:15:42.611825Z",
     "iopub.status.busy": "2024-11-13T02:15:42.611386Z",
     "iopub.status.idle": "2024-11-13T02:17:11.544934Z",
     "shell.execute_reply": "2024-11-13T02:17:11.543706Z"
    },
    "papermill": {
     "duration": 88.94164,
     "end_time": "2024-11-13T02:17:11.547546",
     "exception": false,
     "start_time": "2024-11-13T02:15:42.605906",
     "status": "completed"
    },
    "tags": []
   },
   "outputs": [],
   "source": [
    "scrap_app_reviews = reviews_all(\n",
    "    app_id, \n",
    "    lang='id', \n",
    "    country='id',\n",
    "    sort=Sort.MOST_RELEVANT, \n",
    "    count=1000\n",
    ")"
   ]
  },
  {
   "cell_type": "markdown",
   "id": "8bb93417",
   "metadata": {
    "papermill": {
     "duration": 0.005084,
     "end_time": "2024-11-13T02:17:11.557239",
     "exception": false,
     "start_time": "2024-11-13T02:17:11.552155",
     "status": "completed"
    },
    "tags": []
   },
   "source": [
    "# **3. Loading Dataset**"
   ]
  },
  {
   "cell_type": "code",
   "execution_count": 5,
   "id": "55027b8d",
   "metadata": {
    "execution": {
     "iopub.execute_input": "2024-11-13T02:17:11.567401Z",
     "iopub.status.busy": "2024-11-13T02:17:11.567017Z",
     "iopub.status.idle": "2024-11-13T02:17:13.882839Z",
     "shell.execute_reply": "2024-11-13T02:17:13.881544Z"
    },
    "papermill": {
     "duration": 2.323875,
     "end_time": "2024-11-13T02:17:13.885357",
     "exception": false,
     "start_time": "2024-11-13T02:17:11.561482",
     "status": "completed"
    },
    "tags": []
   },
   "outputs": [
    {
     "name": "stdout",
     "output_type": "stream",
     "text": [
      "Number of Reviews: 144652\n",
      "Number of Columns: 11\n"
     ]
    },
    {
     "data": {
      "text/html": [
       "<div>\n",
       "<style scoped>\n",
       "    .dataframe tbody tr th:only-of-type {\n",
       "        vertical-align: middle;\n",
       "    }\n",
       "\n",
       "    .dataframe tbody tr th {\n",
       "        vertical-align: top;\n",
       "    }\n",
       "\n",
       "    .dataframe thead th {\n",
       "        text-align: right;\n",
       "    }\n",
       "</style>\n",
       "<table border=\"1\" class=\"dataframe\">\n",
       "  <thead>\n",
       "    <tr style=\"text-align: right;\">\n",
       "      <th></th>\n",
       "      <th>reviewId</th>\n",
       "      <th>userName</th>\n",
       "      <th>userImage</th>\n",
       "      <th>content</th>\n",
       "      <th>score</th>\n",
       "      <th>thumbsUpCount</th>\n",
       "      <th>reviewCreatedVersion</th>\n",
       "      <th>at</th>\n",
       "      <th>replyContent</th>\n",
       "      <th>repliedAt</th>\n",
       "      <th>appVersion</th>\n",
       "    </tr>\n",
       "  </thead>\n",
       "  <tbody>\n",
       "    <tr>\n",
       "      <th>0</th>\n",
       "      <td>153cae38-9708-4e35-a4c4-92d3078ba8b0</td>\n",
       "      <td>Pengguna Google</td>\n",
       "      <td>https://play-lh.googleusercontent.com/EGemoI2N...</td>\n",
       "      <td>Barangnya mahal2 dan sulit untuk dapet simleon...</td>\n",
       "      <td>4</td>\n",
       "      <td>637</td>\n",
       "      <td>1.57.2.129660</td>\n",
       "      <td>2024-10-16 07:42:13</td>\n",
       "      <td>None</td>\n",
       "      <td>NaT</td>\n",
       "      <td>1.57.2.129660</td>\n",
       "    </tr>\n",
       "    <tr>\n",
       "      <th>1</th>\n",
       "      <td>ec85c1e0-ac51-4c18-958b-a90914a7e26f</td>\n",
       "      <td>Pengguna Google</td>\n",
       "      <td>https://play-lh.googleusercontent.com/EGemoI2N...</td>\n",
       "      <td>Yang paling disayangkan adalah saat ada tantan...</td>\n",
       "      <td>4</td>\n",
       "      <td>4</td>\n",
       "      <td>1.57.1.129081</td>\n",
       "      <td>2024-10-16 10:08:37</td>\n",
       "      <td>None</td>\n",
       "      <td>NaT</td>\n",
       "      <td>1.57.1.129081</td>\n",
       "    </tr>\n",
       "    <tr>\n",
       "      <th>2</th>\n",
       "      <td>807166ba-f53a-44f1-a6fe-bb4834ed7d42</td>\n",
       "      <td>Pengguna Google</td>\n",
       "      <td>https://play-lh.googleusercontent.com/EGemoI2N...</td>\n",
       "      <td>Pendapatan uang nya terlalu kecil dan susah. b...</td>\n",
       "      <td>2</td>\n",
       "      <td>16</td>\n",
       "      <td>1.57.1.129081</td>\n",
       "      <td>2024-10-03 13:05:17</td>\n",
       "      <td>None</td>\n",
       "      <td>NaT</td>\n",
       "      <td>1.57.1.129081</td>\n",
       "    </tr>\n",
       "    <tr>\n",
       "      <th>3</th>\n",
       "      <td>b64cc92b-ea52-4eef-84ef-34ec52326ccc</td>\n",
       "      <td>Pengguna Google</td>\n",
       "      <td>https://play-lh.googleusercontent.com/EGemoI2N...</td>\n",
       "      <td>Offline dari mana'nya coba, udah numpuk resour...</td>\n",
       "      <td>3</td>\n",
       "      <td>19</td>\n",
       "      <td>1.57.1.129081</td>\n",
       "      <td>2024-10-07 09:01:38</td>\n",
       "      <td>None</td>\n",
       "      <td>NaT</td>\n",
       "      <td>1.57.1.129081</td>\n",
       "    </tr>\n",
       "    <tr>\n",
       "      <th>4</th>\n",
       "      <td>1ae3aae2-ec03-473e-821d-741240df7e1a</td>\n",
       "      <td>Pengguna Google</td>\n",
       "      <td>https://play-lh.googleusercontent.com/EGemoI2N...</td>\n",
       "      <td>\"untuk saran\" 1.ringankan harga tanah 2.kenapa...</td>\n",
       "      <td>3</td>\n",
       "      <td>32</td>\n",
       "      <td>1.57.1.129081</td>\n",
       "      <td>2024-09-21 11:38:00</td>\n",
       "      <td>None</td>\n",
       "      <td>NaT</td>\n",
       "      <td>1.57.1.129081</td>\n",
       "    </tr>\n",
       "  </tbody>\n",
       "</table>\n",
       "</div>"
      ],
      "text/plain": [
       "                               reviewId         userName  \\\n",
       "0  153cae38-9708-4e35-a4c4-92d3078ba8b0  Pengguna Google   \n",
       "1  ec85c1e0-ac51-4c18-958b-a90914a7e26f  Pengguna Google   \n",
       "2  807166ba-f53a-44f1-a6fe-bb4834ed7d42  Pengguna Google   \n",
       "3  b64cc92b-ea52-4eef-84ef-34ec52326ccc  Pengguna Google   \n",
       "4  1ae3aae2-ec03-473e-821d-741240df7e1a  Pengguna Google   \n",
       "\n",
       "                                           userImage  \\\n",
       "0  https://play-lh.googleusercontent.com/EGemoI2N...   \n",
       "1  https://play-lh.googleusercontent.com/EGemoI2N...   \n",
       "2  https://play-lh.googleusercontent.com/EGemoI2N...   \n",
       "3  https://play-lh.googleusercontent.com/EGemoI2N...   \n",
       "4  https://play-lh.googleusercontent.com/EGemoI2N...   \n",
       "\n",
       "                                             content  score  thumbsUpCount  \\\n",
       "0  Barangnya mahal2 dan sulit untuk dapet simleon...      4            637   \n",
       "1  Yang paling disayangkan adalah saat ada tantan...      4              4   \n",
       "2  Pendapatan uang nya terlalu kecil dan susah. b...      2             16   \n",
       "3  Offline dari mana'nya coba, udah numpuk resour...      3             19   \n",
       "4  \"untuk saran\" 1.ringankan harga tanah 2.kenapa...      3             32   \n",
       "\n",
       "  reviewCreatedVersion                  at replyContent repliedAt  \\\n",
       "0        1.57.2.129660 2024-10-16 07:42:13         None       NaT   \n",
       "1        1.57.1.129081 2024-10-16 10:08:37         None       NaT   \n",
       "2        1.57.1.129081 2024-10-03 13:05:17         None       NaT   \n",
       "3        1.57.1.129081 2024-10-07 09:01:38         None       NaT   \n",
       "4        1.57.1.129081 2024-09-21 11:38:00         None       NaT   \n",
       "\n",
       "      appVersion  \n",
       "0  1.57.2.129660  \n",
       "1  1.57.1.129081  \n",
       "2  1.57.1.129081  \n",
       "3  1.57.1.129081  \n",
       "4  1.57.1.129081  "
      ]
     },
     "execution_count": 5,
     "metadata": {},
     "output_type": "execute_result"
    }
   ],
   "source": [
    "app_reviews_df = pd.DataFrame(scrap_app_reviews)\n",
    "app_reviews_df.to_csv('simcity_reviews.csv', index=False)\n",
    "num_of_reviews, num_of_columns = app_reviews_df.shape\n",
    "\n",
    "print(f'Number of Reviews: {num_of_reviews}')\n",
    "print(f'Number of Columns: {num_of_columns}')\n",
    "app_reviews_df.head()"
   ]
  },
  {
   "cell_type": "code",
   "execution_count": 6,
   "id": "4fa67e42",
   "metadata": {
    "execution": {
     "iopub.execute_input": "2024-11-13T02:17:13.896454Z",
     "iopub.status.busy": "2024-11-13T02:17:13.896076Z",
     "iopub.status.idle": "2024-11-13T02:17:14.013083Z",
     "shell.execute_reply": "2024-11-13T02:17:14.011761Z"
    },
    "papermill": {
     "duration": 0.125089,
     "end_time": "2024-11-13T02:17:14.015275",
     "exception": false,
     "start_time": "2024-11-13T02:17:13.890186",
     "status": "completed"
    },
    "tags": []
   },
   "outputs": [
    {
     "name": "stdout",
     "output_type": "stream",
     "text": [
      "<class 'pandas.core.frame.DataFrame'>\n",
      "RangeIndex: 144652 entries, 0 to 144651\n",
      "Data columns (total 11 columns):\n",
      " #   Column                Non-Null Count   Dtype         \n",
      "---  ------                --------------   -----         \n",
      " 0   reviewId              144652 non-null  object        \n",
      " 1   userName              144652 non-null  object        \n",
      " 2   userImage             144652 non-null  object        \n",
      " 3   content               144645 non-null  object        \n",
      " 4   score                 144652 non-null  int64         \n",
      " 5   thumbsUpCount         144652 non-null  int64         \n",
      " 6   reviewCreatedVersion  102140 non-null  object        \n",
      " 7   at                    144652 non-null  datetime64[ns]\n",
      " 8   replyContent          2 non-null       object        \n",
      " 9   repliedAt             2 non-null       datetime64[ns]\n",
      " 10  appVersion            102140 non-null  object        \n",
      "dtypes: datetime64[ns](2), int64(2), object(7)\n",
      "memory usage: 12.1+ MB\n"
     ]
    }
   ],
   "source": [
    "app_reviews_df.info()"
   ]
  },
  {
   "cell_type": "code",
   "execution_count": null,
   "id": "3c23eeb7",
   "metadata": {
    "papermill": {
     "duration": 0.004407,
     "end_time": "2024-11-13T02:17:14.024907",
     "exception": false,
     "start_time": "2024-11-13T02:17:14.020500",
     "status": "completed"
    },
    "tags": []
   },
   "outputs": [],
   "source": []
  }
 ],
 "metadata": {
  "kaggle": {
   "accelerator": "none",
   "dataSources": [],
   "dockerImageVersionId": 30786,
   "isGpuEnabled": false,
   "isInternetEnabled": true,
   "language": "python",
   "sourceType": "notebook"
  },
  "kernelspec": {
   "display_name": "Python 3",
   "language": "python",
   "name": "python3"
  },
  "language_info": {
   "codemirror_mode": {
    "name": "ipython",
    "version": 3
   },
   "file_extension": ".py",
   "mimetype": "text/x-python",
   "name": "python",
   "nbconvert_exporter": "python",
   "pygments_lexer": "ipython3",
   "version": "3.10.14"
  },
  "papermill": {
   "default_parameters": {},
   "duration": 110.127588,
   "end_time": "2024-11-13T02:17:14.651413",
   "environment_variables": {},
   "exception": null,
   "input_path": "__notebook__.ipynb",
   "output_path": "__notebook__.ipynb",
   "parameters": {},
   "start_time": "2024-11-13T02:15:24.523825",
   "version": "2.6.0"
  }
 },
 "nbformat": 4,
 "nbformat_minor": 5
}
